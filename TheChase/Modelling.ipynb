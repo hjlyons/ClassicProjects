{
 "cells": [
  {
   "cell_type": "code",
   "execution_count": 1,
   "metadata": {},
   "outputs": [],
   "source": [
    "import xgboost as xgb\n",
    "import pandas as pd\n",
    "import numpy as np\n",
    "import matplotlib.pyplot as plt\n",
    "from sklearn.model_selection import train_test_split"
   ]
  },
  {
   "cell_type": "code",
   "execution_count": 2,
   "metadata": {},
   "outputs": [],
   "source": [
    "import numpy as np\n",
    "import pandas as pd\n",
    "import matplotlib.pyplot as plt\n",
    "import seaborn as sns\n",
    "from sklearn.metrics import confusion_matrix\n",
    "\n",
    "def cm_analysis(y_true, y_pred, filename, labels, ymap=None, figsize=(10,10)):\n",
    "    \"\"\"\n",
    "    Generate matrix plot of confusion matrix with pretty annotations.\n",
    "    The plot image is saved to disk.\n",
    "    args: \n",
    "      y_true:    true label of the data, with shape (nsamples,)\n",
    "      y_pred:    prediction of the data, with shape (nsamples,)\n",
    "      filename:  filename of figure file to save\n",
    "      labels:    string array, name the order of class labels in the confusion matrix.\n",
    "                 use `clf.classes_` if using scikit-learn models.\n",
    "                 with shape (nclass,).\n",
    "      ymap:      dict: any -> string, length == nclass.\n",
    "                 if not None, map the labels & ys to more understandable strings.\n",
    "                 Caution: original y_true, y_pred and labels must align.\n",
    "      figsize:   the size of the figure plotted.\n",
    "    \"\"\"\n",
    "    if ymap is not None:\n",
    "        y_pred = [ymap[yi] for yi in y_pred]\n",
    "        y_true = [ymap[yi] for yi in y_true]\n",
    "        labels = [ymap[yi] for yi in labels]\n",
    "    cm = confusion_matrix(y_true, y_pred, labels=labels)\n",
    "    cm_sum = np.sum(cm, axis=1, keepdims=True)\n",
    "    cm_perc = cm / cm_sum.astype(float) * 100\n",
    "    annot = np.empty_like(cm).astype(str)\n",
    "    nrows, ncols = cm.shape\n",
    "    for i in range(nrows):\n",
    "        for j in range(ncols):\n",
    "            c = cm[i, j]\n",
    "            p = cm_perc[i, j]\n",
    "            if i == j:\n",
    "                s = cm_sum[i]\n",
    "                annot[i, j] = '%.1f%%\\n%d/%d' % (p, c, s)\n",
    "            elif c == 0:\n",
    "                annot[i, j] = ''\n",
    "            else:\n",
    "                annot[i, j] = '%.1f%%\\n%d' % (p, c)\n",
    "    cm = pd.DataFrame(cm, index=labels, columns=labels)\n",
    "    cm.index.name = 'Actual'\n",
    "    cm.columns.name = 'Predicted'\n",
    "    fig, ax = plt.subplots(figsize=figsize)\n",
    "    sns.heatmap(cm, annot=annot, fmt='', ax=ax)\n",
    "    plt.savefig(filename)"
   ]
  },
  {
   "cell_type": "code",
   "execution_count": 3,
   "metadata": {},
   "outputs": [
    {
     "name": "stdout",
     "output_type": "stream",
     "text": [
      "Training Episodes: 1163, Test Episodes: 291\n"
     ]
    },
    {
     "data": {
      "text/html": [
       "<div>\n",
       "<style scoped>\n",
       "    .dataframe tbody tr th:only-of-type {\n",
       "        vertical-align: middle;\n",
       "    }\n",
       "\n",
       "    .dataframe tbody tr th {\n",
       "        vertical-align: top;\n",
       "    }\n",
       "\n",
       "    .dataframe thead th {\n",
       "        text-align: right;\n",
       "    }\n",
       "</style>\n",
       "<table border=\"1\" class=\"dataframe\">\n",
       "  <thead>\n",
       "    <tr style=\"text-align: right;\">\n",
       "      <th></th>\n",
       "      <th>Series</th>\n",
       "      <th>Episode</th>\n",
       "      <th>AirDate</th>\n",
       "      <th>Chaser</th>\n",
       "      <th>P1</th>\n",
       "      <th>P2</th>\n",
       "      <th>P3</th>\n",
       "      <th>P4</th>\n",
       "      <th>NPlayers</th>\n",
       "      <th>PTotal</th>\n",
       "      <th>playerScore</th>\n",
       "      <th>chaserScore</th>\n",
       "      <th>playerWin</th>\n",
       "      <th>remainingTime</th>\n",
       "    </tr>\n",
       "  </thead>\n",
       "  <tbody>\n",
       "    <tr>\n",
       "      <th>918</th>\n",
       "      <td>10</td>\n",
       "      <td>2</td>\n",
       "      <td>2016-04-18</td>\n",
       "      <td>Shaun Wallace</td>\n",
       "      <td>7000.0</td>\n",
       "      <td>4000.0</td>\n",
       "      <td>3000.0</td>\n",
       "      <td>7000.0</td>\n",
       "      <td>4.0</td>\n",
       "      <td>21000.0</td>\n",
       "      <td>19</td>\n",
       "      <td>19</td>\n",
       "      <td>False</td>\n",
       "      <td>4.0</td>\n",
       "    </tr>\n",
       "    <tr>\n",
       "      <th>253</th>\n",
       "      <td>8</td>\n",
       "      <td>109</td>\n",
       "      <td>2015-03-20</td>\n",
       "      <td>Anne Hegerty</td>\n",
       "      <td>6000</td>\n",
       "      <td>-</td>\n",
       "      <td>-</td>\n",
       "      <td>5</td>\n",
       "      <td>2.0</td>\n",
       "      <td>6005.0</td>\n",
       "      <td>9</td>\n",
       "      <td>9</td>\n",
       "      <td>False</td>\n",
       "      <td>43.0</td>\n",
       "    </tr>\n",
       "    <tr>\n",
       "      <th>1357</th>\n",
       "      <td>13</td>\n",
       "      <td>84</td>\n",
       "      <td>2020-03-09</td>\n",
       "      <td>Shaun Wallace</td>\n",
       "      <td>4000.0</td>\n",
       "      <td>5000.0</td>\n",
       "      <td>5000.0</td>\n",
       "      <td>4000.0</td>\n",
       "      <td>4.0</td>\n",
       "      <td>18000.0</td>\n",
       "      <td>12</td>\n",
       "      <td>12</td>\n",
       "      <td>False</td>\n",
       "      <td>56.0</td>\n",
       "    </tr>\n",
       "    <tr>\n",
       "      <th>1092</th>\n",
       "      <td>10</td>\n",
       "      <td>176</td>\n",
       "      <td>2017-04-24</td>\n",
       "      <td>Anne Hegerty</td>\n",
       "      <td>7000.0</td>\n",
       "      <td>4000.0</td>\n",
       "      <td>5000.0</td>\n",
       "      <td>4000.0</td>\n",
       "      <td>4.0</td>\n",
       "      <td>20000.0</td>\n",
       "      <td>13</td>\n",
       "      <td>13</td>\n",
       "      <td>False</td>\n",
       "      <td>11.0</td>\n",
       "    </tr>\n",
       "    <tr>\n",
       "      <th>493</th>\n",
       "      <td>3</td>\n",
       "      <td>19</td>\n",
       "      <td>2011-01-27</td>\n",
       "      <td>Shaun Wallace</td>\n",
       "      <td>7000.0</td>\n",
       "      <td>-</td>\n",
       "      <td>8000.0</td>\n",
       "      <td>9000.0</td>\n",
       "      <td>3.0</td>\n",
       "      <td>24000.0</td>\n",
       "      <td>27</td>\n",
       "      <td>15</td>\n",
       "      <td>True</td>\n",
       "      <td>0.0</td>\n",
       "    </tr>\n",
       "  </tbody>\n",
       "</table>\n",
       "</div>"
      ],
      "text/plain": [
       "      Series  Episode     AirDate         Chaser      P1      P2      P3  \\\n",
       "918       10        2  2016-04-18  Shaun Wallace  7000.0  4000.0  3000.0   \n",
       "253        8      109  2015-03-20   Anne Hegerty    6000       -       -   \n",
       "1357      13       84  2020-03-09  Shaun Wallace  4000.0  5000.0  5000.0   \n",
       "1092      10      176  2017-04-24   Anne Hegerty  7000.0  4000.0  5000.0   \n",
       "493        3       19  2011-01-27  Shaun Wallace  7000.0       -  8000.0   \n",
       "\n",
       "          P4  NPlayers   PTotal  playerScore  chaserScore  playerWin  \\\n",
       "918   7000.0       4.0  21000.0           19           19      False   \n",
       "253        5       2.0   6005.0            9            9      False   \n",
       "1357  4000.0       4.0  18000.0           12           12      False   \n",
       "1092  4000.0       4.0  20000.0           13           13      False   \n",
       "493   9000.0       3.0  24000.0           27           15       True   \n",
       "\n",
       "      remainingTime  \n",
       "918             4.0  \n",
       "253            43.0  \n",
       "1357           56.0  \n",
       "1092           11.0  \n",
       "493             0.0  "
      ]
     },
     "execution_count": 3,
     "metadata": {},
     "output_type": "execute_result"
    }
   ],
   "source": [
    "full_df = pd.read_csv('data/parsed_chase.csv')\n",
    "df, test_df = train_test_split(full_df, test_size=0.2, random_state=1000, stratify=full_df[\"Chaser\"])\n",
    "print(\"Training Episodes: {}, Test Episodes: {}\".format(len(df), len(test_df)))\n",
    "df.head()"
   ]
  },
  {
   "cell_type": "code",
   "execution_count": 4,
   "metadata": {},
   "outputs": [],
   "source": [
    "def catgeroise_earnings(input_earning):\n",
    "    if input_earning == \"-\":\n",
    "        return \"DNF\"\n",
    "    try:\n",
    "        earning_value = float(input_earning)\n",
    "    except:\n",
    "        return \"NA\"\n",
    "    \n",
    "    if earning_value >= 14000:\n",
    "        return \"High\"\n",
    "    elif earning_value <= 2000:\n",
    "        return \"Low\"\n",
    "\n",
    "    return \"Medium\""
   ]
  },
  {
   "cell_type": "code",
   "execution_count": 5,
   "metadata": {},
   "outputs": [],
   "source": [
    "def get_dataframes(keep_columns = None):\n",
    "    \"\"\" \n",
    "    1) Load the dataframe CSV,\n",
    "    2) Only keep columns according to the keep_columns variable\n",
    "    2) If Chasers column is kept, One hot encode the Chasers \n",
    "    3) train/test split the data, always stratifies on the chaser column\n",
    "    4) return dataframes\n",
    "    \"\"\"\n",
    "    \n",
    "    df = pd.read_csv('data/parsed_chase.csv')\n",
    "    df[\"Chaser\"] = df[\"Chaser\"].str.replace(' ', '')\n",
    "    \n",
    "    # Categroisation of player earnings\n",
    "    players = [\"P1\", \"P2\", \"P3\", \"P4\"]\n",
    "    player_earnings = [\"DNF\", \"Low\", \"Medium\", \"High\"]\n",
    "    for p in players:\n",
    "        df[p] = df.apply(lambda row: catgeroise_earnings(row[p]), axis=1) \n",
    "    for p in player_earnings:\n",
    "        df[\"PCount_\" + p] = (df[\"P1\"] == p).astype(int) + (df[\"P2\"] == p).astype(int) + (df[\"P3\"] == p).astype(int) + (df[\"P4\"] == p).astype(int)\n",
    "\n",
    "    X = df.copy()\n",
    "    #X = X.drop(['playerWin', 'Series', 'Episode', 'AirDate', 'chaserScore', 'remainingTime'], axis=1)    \n",
    "    X = X.drop(['playerWin', 'AirDate', 'chaserScore', 'remainingTime'], axis=1)    \n",
    "    \n",
    "    if keep_columns != None:\n",
    "        X = X[keep_columns]\n",
    "            \n",
    "    if keep_columns != None and \"Chaser\" in keep_columns:\n",
    "        df_chasers = pd.get_dummies(df[\"Chaser\"], prefix='chaser_')\n",
    "        X = pd.concat([X, df_chasers],axis=1)        \n",
    "\n",
    "    if \"Chaser\" in X:\n",
    "        X = X.drop('Chaser', axis=1)    \n",
    "        \n",
    "    y = df[[\"playerWin\"]]\n",
    "    \n",
    "    X_train, X_test, y_train, y_test = train_test_split(X, y, test_size=0.2, random_state=1994, stratify=df[[\"Chaser\"]])\n",
    "    \n",
    "    return X_train, X_test, y_train, y_test"
   ]
  },
  {
   "cell_type": "code",
   "execution_count": 6,
   "metadata": {},
   "outputs": [],
   "source": [
    "X_train, X_test, y_train, y_test = get_dataframes([\"Chaser\", \"PTotal\", \"P1\", \"P2\", \"P3\", \"P4\", 'Episode', 'Series', \"playerScore\", \"NPlayers\"])"
   ]
  },
  {
   "cell_type": "code",
   "execution_count": 7,
   "metadata": {},
   "outputs": [],
   "source": [
    "X_train, X_test, y_train, y_test = get_dataframes([\"Chaser\"])"
   ]
  },
  {
   "cell_type": "code",
   "execution_count": 8,
   "metadata": {},
   "outputs": [],
   "source": [
    "X_train, X_test, y_train, y_test = get_dataframes([\"playerScore\"])"
   ]
  },
  {
   "cell_type": "code",
   "execution_count": 9,
   "metadata": {},
   "outputs": [],
   "source": [
    "X_train, X_test, y_train, y_test = get_dataframes([\"Chaser\", \"PTotal\", \"P1\", \"P2\", \"P3\", \"P4\", 'Series', \"playerScore\", \"NPlayers\"])"
   ]
  },
  {
   "cell_type": "code",
   "execution_count": 10,
   "metadata": {},
   "outputs": [],
   "source": [
    "X_train, X_test, y_train, y_test = get_dataframes([\"Chaser\", \"PTotal\", \"playerScore\", \"PCount_Low\", \"PCount_Medium\", \"PCount_High\"])"
   ]
  },
  {
   "cell_type": "code",
   "execution_count": 11,
   "metadata": {},
   "outputs": [
    {
     "name": "stdout",
     "output_type": "stream",
     "text": [
      "{'bootstrap': True, 'criterion': 'entropy', 'max_depth': 4, 'max_features': 'auto', 'n_estimators': 200}\n"
     ]
    }
   ],
   "source": [
    "from sklearn.model_selection import cross_val_score\n",
    "from sklearn.model_selection import RepeatedStratifiedKFold\n",
    "from sklearn.ensemble import AdaBoostClassifier\n",
    "from sklearn.ensemble import RandomForestClassifier\n",
    "from sklearn.model_selection import GridSearchCV\n",
    "\n",
    "#rfc = RandomForestClassifier(n_jobs=-1, random_state=42, class_weight={False:1,True:10}) \n",
    "rfc = RandomForestClassifier(n_jobs=-1, random_state=42) \n",
    "\n",
    "param_grid = { \n",
    "    'n_estimators': [10, 50, 100, 200],\n",
    "    'max_features': [\"auto\", \"sqrt\", \"log2\"],\n",
    "    'bootstrap': [True],\n",
    "    'max_depth' : [2, 4, 8, 16, 32],\n",
    "    'criterion' :['gini', 'entropy']\n",
    "}\n",
    "\n",
    "CV_rfc = GridSearchCV(estimator=rfc, param_grid=param_grid, cv=10, scoring='roc_auc')\n",
    "CV_rfc.fit(X_train, y_train.values.ravel())\n",
    "\n",
    "print(CV_rfc.best_params_)"
   ]
  },
  {
   "cell_type": "code",
   "execution_count": 12,
   "metadata": {},
   "outputs": [
    {
     "data": {
      "image/png": "[encoded data removed]",
      "text/plain": [
       "<Figure size 432x288 with 1 Axes>"
      ]
     },
     "metadata": {
      "needs_background": "light"
     },
     "output_type": "display_data"
    },
    {
     "data": {
      "image/png": "[encoded data removed]",
      "text/plain": [
       "<Figure size 720x720 with 2 Axes>"
      ]
     },
     "metadata": {
      "needs_background": "light"
     },
     "output_type": "display_data"
    }
   ],
   "source": [
    "from sklearn import metrics\n",
    "metrics.plot_roc_curve(CV_rfc, X_train, y_train)\n",
    "plt.show()\n",
    "from sklearn.metrics import accuracy_score\n",
    "\n",
    "y_pred = CV_rfc.predict(X_test)\n",
    "accuracy_score(y_test, y_pred)\n",
    "\n",
    "cm_analysis(y_test, y_pred, \"test_plot.pdf\", CV_rfc.classes_, ymap=None, figsize=(10,10))"
   ]
  },
  {
   "cell_type": "code",
   "execution_count": null,
   "metadata": {},
   "outputs": [],
   "source": []
  }
 ],
 "metadata": {
  "kernelspec": {
   "display_name": "Python 3",
   "language": "python",
   "name": "python3"
  },
  "language_info": {
   "codemirror_mode": {
    "name": "ipython",
    "version": 3
   },
   "file_extension": ".py",
   "mimetype": "text/x-python",
   "name": "python",
   "nbconvert_exporter": "python",
   "pygments_lexer": "ipython3",
   "version": "3.8.5"
  }
 },
 "nbformat": 4,
 "nbformat_minor": 4
}
