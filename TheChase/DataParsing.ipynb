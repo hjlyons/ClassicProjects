{
 "cells": [
  {
   "cell_type": "markdown",
   "metadata": {},
   "source": [
    "# Data Parsing and Cleaning\n",
    "\n",
    "This notebook is built to show the steps of converting the web_parse.py outputs into a consistent dataframe for analysis usage. \n",
    "\n",
    "1. Unfortunately having two formats parsed from the chase wiki, means some additional work is needed to produce a consistent format (different parsing needed for the different dataframes)\n",
    "1. What we also see is a need for additional data cleaning which is performed in this notebook\n",
    "\n",
    "What do we want as an output?\n",
    "\n",
    "1. Series, Episode Number, AirDate\n",
    "1. P1, P2, P3, P4 Selected Offer (Zero for failure), Number of Succesful Players \n",
    "1. Team Score, Chaser Score, PlayerWin Boolean, Time Remaining on Clock (if chaser win, zero if not)\n",
    "\n",
    "Note: The data discussed was parsed 20/11/2020, most scraped data formats expected to evolve with time, and possible modifications will be needed in future running."
   ]
  },
  {
   "cell_type": "code",
   "execution_count": 1,
   "metadata": {},
   "outputs": [],
   "source": [
    "import pandas as pd\n",
    "import numpy as np\n",
    "import datetime"
   ]
  },
  {
   "cell_type": "code",
   "execution_count": 2,
   "metadata": {},
   "outputs": [],
   "source": [
    "old_df = pd.read_csv(\"data/oldformat_chase.csv\")\n",
    "new_df = pd.read_csv(\"data/newformat_chase.csv\")"
   ]
  },
  {
   "cell_type": "markdown",
   "metadata": {},
   "source": [
    "# Defining Some Parsing Functions\n",
    "\n",
    "1. The results column is written in the form \"17/17 (0:27)\" which is \"{Team Score}/{Chaser Score} TimeRemaining\". Want this parsed into 4 columns output Team Score/Chaser Score/PlayerWin/TimeRemaining"
   ]
  },
  {
   "cell_type": "code",
   "execution_count": 3,
   "metadata": {},
   "outputs": [],
   "source": [
    "def parse_players_old(in_df):\n",
    "    \"\"\"\n",
    "    Given an input dataframe, with columns P1, P2, P3, P4, \n",
    "    - Evaluate how many players moved on to the final round\n",
    "    - Parse the columns such that theyre ints\n",
    "    Returns full dataframe\n",
    "    \"\"\"\n",
    "\n",
    "    for p in [\"P1\", \"P2\", \"P3\", \"P4\"]:\n",
    "        old_df[p] = old_df[p].str.replace('£', '').str.replace(',', '').str.replace(' ', '')\n",
    "        old_df[p] = old_df[p].fillna(\"-\")\n",
    "\n",
    "    old_df[\"NPlayers\"] = ((old_df[\"P1\"].str.isnumeric()).astype(float) + (old_df[\"P2\"].str.isnumeric()).astype(float) +(old_df[\"P3\"].str.isnumeric()).astype(float) +(old_df[\"P4\"].str.isnumeric()).astype(float))\n",
    "        \n",
    "    for p in [\"P1\", \"P2\", \"P3\", \"P4\"]:\n",
    "        old_df[p] = old_df[p].replace(['-'], '0.0')\n",
    "        old_df[p] = old_df[p].fillna(0)\n",
    "        old_df[p] = old_df[p].astype(float)\n",
    "        \n",
    "    old_df[\"PTotal\"] = old_df[\"P1\"] + old_df[\"P2\"] + old_df[\"P3\"] + old_df[\"P4\"]\n",
    "    \n",
    "    return old_df\n",
    "\n",
    "\n",
    "def check_contribution(in_string):\n",
    "    \"\"\"\n",
    "    Given an \"contribution\" string like \"() + £9,000 + £5,000 + £8,000\"\n",
    "    Want to return check whether the format is sensible or not, i.e. 4 entries.\n",
    "    \"\"\"\n",
    "    in_string = in_string.replace(\",\",\"\").replace(\"£\",\"\").replace(\"+\",\"\").lower()\n",
    "\n",
    "    # These episodes, labelled lazarus and nominated occur when all players lose, \n",
    "    # We parse these separately so just return true for this stage\n",
    "    if (\"lazarus\" in in_string) or (\"nominated\" in in_string):\n",
    "        return True\n",
    "    \n",
    "    splits = in_string.split()\n",
    "    if len(splits) == 4:\n",
    "        return True\n",
    "    else:\n",
    "        return False\n",
    "    \n",
    "\n",
    "def parse_players_new(in_string):\n",
    "    \"\"\"\n",
    "    Given an \"contribution\" string like \"() + £9,000 + £5,000 + £8,000\"\n",
    "    Want to return a dictionary with parsed\n",
    "    P1, P2, P3, P4, NPlayers, PTotal\n",
    "    \"\"\"\n",
    "    \n",
    "    out_dict = {}\n",
    "    in_string = in_string.replace(\",\",\"\").replace(\"£\",\"\").replace(\"+\",\"\").lower()\n",
    "\n",
    "    # These episodes, labelled lazarus and nominated occur when all players lose, \n",
    "    # But the final round still plays out with a certain nominated player.\n",
    "    if (\"lazarus\" in in_string) or (\"nominated\" in in_string):\n",
    "        out_dict = {\"P1\" : 0.0, \"P2\" : 0.0, \"P3\" : 0.0, \"P4\" : 0.0, \"PTotal\" : 4000.0, \"NPlayers\" : 0}\n",
    "        return pd.Series(out_dict)\n",
    "    \n",
    "    splits = in_string.split()\n",
    "    \n",
    "    if len(splits) != 4:\n",
    "        print(in_string)\n",
    "    \n",
    "    ntotal = 0\n",
    "    ptotal = 0\n",
    "    for i in range(4):\n",
    "        if splits[i] == '()':\n",
    "            out_dict[\"P{}\".format(i+1)] = 0\n",
    "        else:\n",
    "            ptotal += float(splits[i].replace(\"(\",\"\").replace(\")\",\"\"))\n",
    "            ntotal +=1\n",
    "            out_dict[\"P{}\".format(i+1)] = float(splits[i])\n",
    "    \n",
    "    out_dict[\"PTotal\"] = ptotal\n",
    "    out_dict[\"NPlayers\"] = ntotal\n",
    "    \n",
    "    return pd.Series(out_dict)\n",
    "\n",
    "def parse_results_old(in_string):\n",
    "    \"\"\"\n",
    "    Given an input results string \"17/17 (0:27)\" \n",
    "    return a dictionary for PlayerScore, ChaserScore, PlayerWin, RemaningTime\n",
    "    \"\"\"\n",
    "    \n",
    "    out_dict = {}\n",
    "    \n",
    "    in_string = in_string.replace(\"'\",\"\")\n",
    "    \n",
    "    out_dict[\"playerScore\"] = int(in_string.split(\"/\")[0])\n",
    "    out_dict[\"chaserScore\"] = int(in_string.split(\"/\")[1].split(\" \")[0].split(\"(\")[0])        \n",
    "        \n",
    "    if  out_dict[\"chaserScore\"] ==  out_dict[\"playerScore\"]:\n",
    "        out_dict[\"playerWin\"] = False\n",
    "        remainingTimeString = in_string.split(\")\")[0].split(\"(\")[1]\n",
    "    else:\n",
    "        out_dict[\"playerWin\"] = True\n",
    "        remainingTimeString = \"00:00\"\n",
    "             \n",
    "    date_time = datetime.datetime.strptime(remainingTimeString, \"%M:%S\")\n",
    "    a_timedelta = date_time - datetime.datetime(1900, 1, 1)\n",
    "    out_dict[\"remainingTime\"] = a_timedelta.total_seconds()\n",
    "        \n",
    "    return pd.Series(out_dict)"
   ]
  },
  {
   "cell_type": "markdown",
   "metadata": {},
   "source": [
    "# Initial Checks\n",
    "\n",
    "After parsing raw html data these are how many rows contained in both the old format and new format dataframes!"
   ]
  },
  {
   "cell_type": "code",
   "execution_count": 4,
   "metadata": {},
   "outputs": [
    {
     "name": "stdout",
     "output_type": "stream",
     "text": [
      "No. Episodes:\n",
      "Old: 471\n",
      "New: 1064\n"
     ]
    }
   ],
   "source": [
    "print(\"No. Episodes:\\nOld: {}\\nNew: {}\".format(len(old_df), len(new_df)))"
   ]
  },
  {
   "cell_type": "markdown",
   "metadata": {},
   "source": [
    "Immediately we need to check what is even in these dataframes... oh dear. The inconsistencies in the entries imply missing values, and the Dtype being \"object\" for most columns implies there are some inconsistencies in the type of data stored in each column"
   ]
  },
  {
   "cell_type": "code",
   "execution_count": 5,
   "metadata": {},
   "outputs": [
    {
     "name": "stdout",
     "output_type": "stream",
     "text": [
      "<class 'pandas.core.frame.DataFrame'>\n",
      "RangeIndex: 471 entries, 0 to 470\n",
      "Data columns (total 9 columns):\n",
      " #   Column   Non-Null Count  Dtype \n",
      "---  ------   --------------  ----- \n",
      " 0   Series   471 non-null    int64 \n",
      " 1   Episode  471 non-null    object\n",
      " 2   AirDate  471 non-null    object\n",
      " 3   Chaser   471 non-null    object\n",
      " 4   P1       469 non-null    object\n",
      " 5   P2       470 non-null    object\n",
      " 6   P3       470 non-null    object\n",
      " 7   P4       470 non-null    object\n",
      " 8   Result   471 non-null    object\n",
      "dtypes: int64(1), object(8)\n",
      "memory usage: 33.2+ KB\n",
      "\n",
      "<class 'pandas.core.frame.DataFrame'>\n",
      "RangeIndex: 1064 entries, 0 to 1063\n",
      "Data columns (total 6 columns):\n",
      " #   Column        Non-Null Count  Dtype \n",
      "---  ------        --------------  ----- \n",
      " 0   Series        1064 non-null   int64 \n",
      " 1   Episode       1064 non-null   object\n",
      " 2   AirDate       1040 non-null   object\n",
      " 3   Chaser        1064 non-null   object\n",
      " 4   Contribution  1035 non-null   object\n",
      " 5   Result        1034 non-null   object\n",
      "dtypes: int64(1), object(5)\n",
      "memory usage: 50.0+ KB\n"
     ]
    }
   ],
   "source": [
    "old_df.info()\n",
    "print(\"\")\n",
    "new_df.info()"
   ]
  },
  {
   "cell_type": "markdown",
   "metadata": {},
   "source": [
    "# Old Format File\n",
    "Let's begin with the old dataframe parsing. First let's check a breakdown of counts for which chaser was playing. \n",
    "   1. There is one occurence of misspelling of Anne Hegerty : Let's fix the name\n",
    "   1. There is a row that just has column titles in it, should be removed!\n"
   ]
  },
  {
   "cell_type": "code",
   "execution_count": 6,
   "metadata": {},
   "outputs": [
    {
     "name": "stdout",
     "output_type": "stream",
     "text": [
      "               Episodes\n",
      "Chaser                 \n",
      "Anne Hegerty        109\n",
      "Anne Hegety           1\n",
      "Chaser                1\n",
      "Jenny Ryan           34\n",
      "Mark Labbett        111\n",
      "Paul Sinha          110\n",
      "Shaun Wallace       105\n",
      "\n",
      "     Series Episode          AirDate       Chaser      P1       P2 P3 P4  \\\n",
      "177       8      28  October 8, 2014  Anne Hegety  £6,000  £30,000  -  -   \n",
      "\n",
      "           Result  \n",
      "177  15/15 (0:21)  \n",
      "\n",
      "     Series Episode  AirDate  Chaser  P1  P2  P3  P4              Result\n",
      "300      11      Ep  Airdate  Chaser  P1  P2  P3  P4  Final Chase result\n"
     ]
    }
   ],
   "source": [
    "print(old_df[[\"Chaser\", \"Result\"]].groupby('Chaser').count().rename(columns={'Result':'Episodes'}))\n",
    "print()\n",
    "print(old_df[old_df[\"Chaser\"]==\"Anne Hegety\"].head())\n",
    "print()\n",
    "print(old_df[old_df[\"Chaser\"]==\"Chaser\"].head())\n",
    "\n",
    "old_df.loc[old_df['Chaser'] == 'Anne Hegety', 'Chaser'] = \"Anne Hegerty\"\n",
    "old_df = old_df[old_df[\"Chaser\"] != \"Chaser\"]"
   ]
  },
  {
   "cell_type": "markdown",
   "metadata": {},
   "source": [
    "Turning episode number actually threw an error before the previous filter.\n",
    "Now that Episode = \"Ep\" is fixed, can cast Episode number to an int."
   ]
  },
  {
   "cell_type": "code",
   "execution_count": 7,
   "metadata": {},
   "outputs": [
    {
     "name": "stdout",
     "output_type": "stream",
     "text": [
      "<class 'pandas.core.frame.DataFrame'>\n",
      "Int64Index: 470 entries, 0 to 470\n",
      "Data columns (total 1 columns):\n",
      " #   Column   Non-Null Count  Dtype\n",
      "---  ------   --------------  -----\n",
      " 0   Episode  470 non-null    int64\n",
      "dtypes: int64(1)\n",
      "memory usage: 7.3 KB\n"
     ]
    }
   ],
   "source": [
    "old_df[\"Episode\"] = old_df[\"Episode\"].astype(int)\n",
    "old_df[[\"Episode\"]].info()"
   ]
  },
  {
   "cell_type": "markdown",
   "metadata": {},
   "source": [
    "What rows can we not convert airdate to pandas datetime? The first is an easy fix, the rest is a lot less clear. Checking various websites I can't find too many details on episodes 147-150 and whether they aired or not. Because of this ambiguity I remove from the dataset. The column is then set to datetime!"
   ]
  },
  {
   "cell_type": "code",
   "execution_count": 8,
   "metadata": {},
   "outputs": [],
   "source": [
    "old_df[pd.to_datetime(old_df[\"AirDate\"], errors='coerce').isnull()]\n",
    "\n",
    "old_df.loc[old_df['Episode'] == 78, 'AirDate'] = \"14/2/2014\"\n",
    "old_df = old_df[old_df[\"Episode\"] < 146]\n",
    "old_df[pd.to_datetime(old_df[\"AirDate\"], errors='coerce').isnull()]\n",
    "\n",
    "old_df[\"AirDate\"] = pd.to_datetime(old_df[\"AirDate\"], errors='coerce')"
   ]
  },
  {
   "cell_type": "markdown",
   "metadata": {},
   "source": [
    "From the HTML we obtain a column for P1, P2, P3, P4. These are marked with a \"-\" to signify the contestant failed to get through. Some are left blank (assuming by accident) resulting in NaN entries. Also need to do some string parsing to remove the currency symbol and \",\" symbols for thousands. This is all performed by parse_players_old function!"
   ]
  },
  {
   "cell_type": "code",
   "execution_count": 9,
   "metadata": {},
   "outputs": [],
   "source": [
    "old_df = parse_players_old(old_df)"
   ]
  },
  {
   "cell_type": "markdown",
   "metadata": {},
   "source": [
    "Finally want to parse the \"Result\" string into separate columns, with a boolean for whether the chaser won, and the remaining time left! All performed with the parse_results_old function. Drop the results column as it's no longer needed. "
   ]
  },
  {
   "cell_type": "code",
   "execution_count": 10,
   "metadata": {},
   "outputs": [],
   "source": [
    "old_df[[\"playerScore\", \"chaserScore\", \"playerWin\", \"remainingTime\"]] = old_df[\"Result\"].apply(lambda x: parse_results_old(x))\n",
    "old_df = old_df.drop(['Result'], axis=1)"
   ]
  },
  {
   "cell_type": "markdown",
   "metadata": {},
   "source": [
    "Okay everything should be handled, let's just check the head..."
   ]
  },
  {
   "cell_type": "code",
   "execution_count": 11,
   "metadata": {},
   "outputs": [
    {
     "data": {
      "text/html": [
       "<div>\n",
       "<style scoped>\n",
       "    .dataframe tbody tr th:only-of-type {\n",
       "        vertical-align: middle;\n",
       "    }\n",
       "\n",
       "    .dataframe tbody tr th {\n",
       "        vertical-align: top;\n",
       "    }\n",
       "\n",
       "    .dataframe thead th {\n",
       "        text-align: right;\n",
       "    }\n",
       "</style>\n",
       "<table border=\"1\" class=\"dataframe\">\n",
       "  <thead>\n",
       "    <tr style=\"text-align: right;\">\n",
       "      <th></th>\n",
       "      <th>Series</th>\n",
       "      <th>Episode</th>\n",
       "      <th>AirDate</th>\n",
       "      <th>Chaser</th>\n",
       "      <th>P1</th>\n",
       "      <th>P2</th>\n",
       "      <th>P3</th>\n",
       "      <th>P4</th>\n",
       "      <th>NPlayers</th>\n",
       "      <th>PTotal</th>\n",
       "      <th>playerScore</th>\n",
       "      <th>chaserScore</th>\n",
       "      <th>playerWin</th>\n",
       "      <th>remainingTime</th>\n",
       "    </tr>\n",
       "  </thead>\n",
       "  <tbody>\n",
       "    <tr>\n",
       "      <th>0</th>\n",
       "      <td>7</td>\n",
       "      <td>1</td>\n",
       "      <td>2013-09-02</td>\n",
       "      <td>Anne Hegerty</td>\n",
       "      <td>3000.0</td>\n",
       "      <td>0.0</td>\n",
       "      <td>0.0</td>\n",
       "      <td>3000.0</td>\n",
       "      <td>2.0</td>\n",
       "      <td>6000.0</td>\n",
       "      <td>14</td>\n",
       "      <td>14</td>\n",
       "      <td>False</td>\n",
       "      <td>47.0</td>\n",
       "    </tr>\n",
       "    <tr>\n",
       "      <th>1</th>\n",
       "      <td>7</td>\n",
       "      <td>2</td>\n",
       "      <td>2013-09-03</td>\n",
       "      <td>Mark Labbett</td>\n",
       "      <td>7000.0</td>\n",
       "      <td>6000.0</td>\n",
       "      <td>5000.0</td>\n",
       "      <td>42000.0</td>\n",
       "      <td>4.0</td>\n",
       "      <td>60000.0</td>\n",
       "      <td>19</td>\n",
       "      <td>18</td>\n",
       "      <td>True</td>\n",
       "      <td>0.0</td>\n",
       "    </tr>\n",
       "    <tr>\n",
       "      <th>2</th>\n",
       "      <td>7</td>\n",
       "      <td>3</td>\n",
       "      <td>2013-09-04</td>\n",
       "      <td>Shaun Wallace</td>\n",
       "      <td>1000.0</td>\n",
       "      <td>0.0</td>\n",
       "      <td>0.0</td>\n",
       "      <td>49000.0</td>\n",
       "      <td>2.0</td>\n",
       "      <td>50000.0</td>\n",
       "      <td>17</td>\n",
       "      <td>17</td>\n",
       "      <td>False</td>\n",
       "      <td>2.0</td>\n",
       "    </tr>\n",
       "    <tr>\n",
       "      <th>3</th>\n",
       "      <td>7</td>\n",
       "      <td>4</td>\n",
       "      <td>2013-09-05</td>\n",
       "      <td>Mark Labbett</td>\n",
       "      <td>0.0</td>\n",
       "      <td>30000.0</td>\n",
       "      <td>-3000.0</td>\n",
       "      <td>7000.0</td>\n",
       "      <td>2.0</td>\n",
       "      <td>34000.0</td>\n",
       "      <td>19</td>\n",
       "      <td>19</td>\n",
       "      <td>False</td>\n",
       "      <td>6.0</td>\n",
       "    </tr>\n",
       "    <tr>\n",
       "      <th>4</th>\n",
       "      <td>7</td>\n",
       "      <td>5</td>\n",
       "      <td>2013-09-06</td>\n",
       "      <td>Paul Sinha</td>\n",
       "      <td>0.0</td>\n",
       "      <td>0.0</td>\n",
       "      <td>4000.0</td>\n",
       "      <td>5000.0</td>\n",
       "      <td>2.0</td>\n",
       "      <td>9000.0</td>\n",
       "      <td>11</td>\n",
       "      <td>11</td>\n",
       "      <td>False</td>\n",
       "      <td>61.0</td>\n",
       "    </tr>\n",
       "  </tbody>\n",
       "</table>\n",
       "</div>"
      ],
      "text/plain": [
       "   Series  Episode    AirDate         Chaser      P1       P2      P3  \\\n",
       "0       7        1 2013-09-02   Anne Hegerty  3000.0      0.0     0.0   \n",
       "1       7        2 2013-09-03   Mark Labbett  7000.0   6000.0  5000.0   \n",
       "2       7        3 2013-09-04  Shaun Wallace  1000.0      0.0     0.0   \n",
       "3       7        4 2013-09-05   Mark Labbett     0.0  30000.0 -3000.0   \n",
       "4       7        5 2013-09-06     Paul Sinha     0.0      0.0  4000.0   \n",
       "\n",
       "        P4  NPlayers   PTotal  playerScore  chaserScore  playerWin  \\\n",
       "0   3000.0       2.0   6000.0           14           14      False   \n",
       "1  42000.0       4.0  60000.0           19           18       True   \n",
       "2  49000.0       2.0  50000.0           17           17      False   \n",
       "3   7000.0       2.0  34000.0           19           19      False   \n",
       "4   5000.0       2.0   9000.0           11           11      False   \n",
       "\n",
       "   remainingTime  \n",
       "0           47.0  \n",
       "1            0.0  \n",
       "2            2.0  \n",
       "3            6.0  \n",
       "4           61.0  "
      ]
     },
     "execution_count": 11,
     "metadata": {},
     "output_type": "execute_result"
    }
   ],
   "source": [
    "old_df.head()"
   ]
  },
  {
   "cell_type": "markdown",
   "metadata": {},
   "source": [
    "# New Format File\n",
    "Let's start looking at the new dataframe parsing. Let's just perform the same checks.... First let's check a breakdown of counts for which chaser was playing. \n",
    "   1. Let's fix the entries noted with \"(FC)\"\n",
    "   1. Some blank rows with no info labelled with \"...\" need to remove. Also those labeled with \"Chaser\"\n",
    "   1. As of writing this, Darragh Ennis has only appeared in one episode, will be removed until enough stats exists.\n"
   ]
  },
  {
   "cell_type": "code",
   "execution_count": 12,
   "metadata": {},
   "outputs": [
    {
     "name": "stdout",
     "output_type": "stream",
     "text": [
      "Before Cleaning:\n",
      "                    Episodes\n",
      "Chaser                      \n",
      "...                        0\n",
      "Anne Hegerty             237\n",
      "Anne Hegerty (FC)          1\n",
      "Chaser                     4\n",
      "Darragh Ennis              1\n",
      "Jenny Ryan               122\n",
      "Mark Labbett             236\n",
      "Mark Labbett\\n(FC)         1\n",
      "Paul Sinha               206\n",
      "Shaun Wallace            226\n",
      "\n",
      "After Cleaning:\n",
      "               Episodes\n",
      "Chaser                 \n",
      "Anne Hegerty        238\n",
      "Jenny Ryan          122\n",
      "Mark Labbett        237\n",
      "Paul Sinha          206\n",
      "Shaun Wallace       226\n"
     ]
    }
   ],
   "source": [
    "print(\"Before Cleaning:\")\n",
    "print(new_df[[\"Chaser\", \"Result\"]].groupby('Chaser').count().rename(columns={'Result':'Episodes'}))\n",
    "\n",
    "new_df = new_df[new_df[\"Chaser\"] != \"...\"]\n",
    "new_df = new_df[new_df[\"Chaser\"] != \"Chaser\"]\n",
    "new_df = new_df[new_df[\"Chaser\"] != \"Darragh Ennis\"]\n",
    "\n",
    "new_df.loc[new_df['Chaser'] == 'Anne Hegerty (FC)', 'Chaser'] = \"Anne Hegerty\"\n",
    "new_df.loc[new_df['Chaser'] == 'Mark Labbett\\n(FC)', 'Chaser'] = \"Mark Labbett\"\n",
    "\n",
    "print(\"\\nAfter Cleaning:\")\n",
    "print(new_df[[\"Chaser\", \"Result\"]].groupby('Chaser').count().rename(columns={'Result':'Episodes'}))"
   ]
  },
  {
   "cell_type": "markdown",
   "metadata": {},
   "source": [
    "There is one episode with additional notes on the episode number, want to fix this up. Can then cast column to integer. "
   ]
  },
  {
   "cell_type": "code",
   "execution_count": 13,
   "metadata": {},
   "outputs": [
    {
     "name": "stdout",
     "output_type": "stream",
     "text": [
      "<class 'pandas.core.frame.DataFrame'>\n",
      "Int64Index: 1030 entries, 1 to 1053\n",
      "Data columns (total 1 columns):\n",
      " #   Column   Non-Null Count  Dtype\n",
      "---  ------   --------------  -----\n",
      " 0   Episode  1030 non-null   int64\n",
      "dtypes: int64(1)\n",
      "memory usage: 16.1 KB\n"
     ]
    }
   ],
   "source": [
    "new_df[pd.to_numeric(new_df['Episode'], errors='coerce').isnull()]\n",
    "new_df.loc[new_df['Episode'] == '54\\n(1,000th Episode)', 'Episode'] = \"54\"\n",
    "\n",
    "new_df[\"Episode\"] = new_df[\"Episode\"].astype(int)\n",
    "\n",
    "new_df[[\"Episode\"]].info()"
   ]
  },
  {
   "cell_type": "markdown",
   "metadata": {},
   "source": [
    "Some episodes seem to have not aired, will filter out episodes with AirDate = \"TBD\". Then convert to the expected airdate column format."
   ]
  },
  {
   "cell_type": "code",
   "execution_count": 14,
   "metadata": {},
   "outputs": [],
   "source": [
    "new_df = new_df[new_df[\"AirDate\"] != \"TBD\"]\n",
    "new_df[\"AirDate\"] = pd.to_datetime(new_df[\"AirDate\"], errors='coerce')"
   ]
  },
  {
   "cell_type": "markdown",
   "metadata": {},
   "source": [
    "There is an episode with a lot of data missing, will remove this"
   ]
  },
  {
   "cell_type": "code",
   "execution_count": 15,
   "metadata": {},
   "outputs": [
    {
     "name": "stdout",
     "output_type": "stream",
     "text": [
      "     Series  Episode    AirDate         Chaser     Contribution Result\n",
      "146       5       65 2012-05-14  Shaun Wallace  £7,000 + £7,000    NaN\n"
     ]
    }
   ],
   "source": [
    "print(new_df[new_df[\"Result\"].isnull()].head())\n",
    "new_df = new_df[~new_df[\"Result\"].isnull()]"
   ]
  },
  {
   "cell_type": "markdown",
   "metadata": {},
   "source": [
    "Can parse the result column as we did before!"
   ]
  },
  {
   "cell_type": "code",
   "execution_count": 16,
   "metadata": {},
   "outputs": [],
   "source": [
    "new_df[[\"playerScore\", \"chaserScore\", \"playerWin\", \"remainingTime\"]] = new_df[\"Result\"].apply(lambda x: parse_results_old(str(x)))\n",
    "new_df = new_df.drop(['Result'], axis=1)"
   ]
  },
  {
   "cell_type": "markdown",
   "metadata": {},
   "source": [
    "There are some episodes with incomplete definitions for the contribution, implying 3 contestants, 5 contestants.\n",
    "Should be checked, but for this exercise will just remove these episodes."
   ]
  },
  {
   "cell_type": "code",
   "execution_count": 17,
   "metadata": {},
   "outputs": [
    {
     "name": "stdout",
     "output_type": "stream",
     "text": [
      "     Series  Episode                 Contribution\n",
      "269       6      122   £6,000 + £3,000 +  -£3,000\n",
      "728      12       45  £9,000 + £6,000 + (-£3,000)\n",
      "745      12       62   £9,000 + () + () + () + ()\n",
      "773      12       90    £2,000 + £5,000 + £43,000\n"
     ]
    }
   ],
   "source": [
    "print(new_df[~new_df[\"Contribution\"].apply(lambda x: check_contribution(str(x)))][[\"Series\", \"Episode\", \"Contribution\"]].head())\n",
    "new_df = new_df[new_df[\"Contribution\"].apply(lambda x: check_contribution(str(x)))]"
   ]
  },
  {
   "cell_type": "markdown",
   "metadata": {},
   "source": [
    "Finally can extract values for the player contribitions, all performed by parse_players_new function. Drop Contribution column as no longer needed!"
   ]
  },
  {
   "cell_type": "code",
   "execution_count": 18,
   "metadata": {},
   "outputs": [],
   "source": [
    "new_df[[\"P1\", \"P2\", \"P3\", \"P4\", \"PTotal\", \"NPlayers\"]] = new_df[\"Contribution\"].apply(lambda x: parse_players_new(str(x)))\n",
    "new_df = new_df.drop(['Contribution'], axis=1)"
   ]
  },
  {
   "cell_type": "markdown",
   "metadata": {},
   "source": [
    "Now let's just check things look sensible, the order is off from old dataframe, but we can ignore this in the merging!"
   ]
  },
  {
   "cell_type": "code",
   "execution_count": 19,
   "metadata": {},
   "outputs": [
    {
     "data": {
      "text/html": [
       "<div>\n",
       "<style scoped>\n",
       "    .dataframe tbody tr th:only-of-type {\n",
       "        vertical-align: middle;\n",
       "    }\n",
       "\n",
       "    .dataframe tbody tr th {\n",
       "        vertical-align: top;\n",
       "    }\n",
       "\n",
       "    .dataframe thead th {\n",
       "        text-align: right;\n",
       "    }\n",
       "</style>\n",
       "<table border=\"1\" class=\"dataframe\">\n",
       "  <thead>\n",
       "    <tr style=\"text-align: right;\">\n",
       "      <th></th>\n",
       "      <th>Series</th>\n",
       "      <th>Episode</th>\n",
       "      <th>AirDate</th>\n",
       "      <th>Chaser</th>\n",
       "      <th>playerScore</th>\n",
       "      <th>chaserScore</th>\n",
       "      <th>playerWin</th>\n",
       "      <th>remainingTime</th>\n",
       "      <th>P1</th>\n",
       "      <th>P2</th>\n",
       "      <th>P3</th>\n",
       "      <th>P4</th>\n",
       "      <th>PTotal</th>\n",
       "      <th>NPlayers</th>\n",
       "    </tr>\n",
       "  </thead>\n",
       "  <tbody>\n",
       "    <tr>\n",
       "      <th>1</th>\n",
       "      <td>2</td>\n",
       "      <td>1</td>\n",
       "      <td>2010-05-24</td>\n",
       "      <td>Shaun Wallace</td>\n",
       "      <td>19</td>\n",
       "      <td>19</td>\n",
       "      <td>False</td>\n",
       "      <td>17.0</td>\n",
       "      <td>9000</td>\n",
       "      <td>2000</td>\n",
       "      <td>0</td>\n",
       "      <td>5000</td>\n",
       "      <td>16000.0</td>\n",
       "      <td>3.0</td>\n",
       "    </tr>\n",
       "    <tr>\n",
       "      <th>2</th>\n",
       "      <td>2</td>\n",
       "      <td>2</td>\n",
       "      <td>2010-05-25</td>\n",
       "      <td>Mark Labbett</td>\n",
       "      <td>23</td>\n",
       "      <td>23</td>\n",
       "      <td>False</td>\n",
       "      <td>10.0</td>\n",
       "      <td>9000</td>\n",
       "      <td>9000</td>\n",
       "      <td>9000</td>\n",
       "      <td>1000</td>\n",
       "      <td>28000.0</td>\n",
       "      <td>4.0</td>\n",
       "    </tr>\n",
       "    <tr>\n",
       "      <th>3</th>\n",
       "      <td>2</td>\n",
       "      <td>3</td>\n",
       "      <td>2010-05-26</td>\n",
       "      <td>Mark Labbett</td>\n",
       "      <td>14</td>\n",
       "      <td>14</td>\n",
       "      <td>False</td>\n",
       "      <td>35.0</td>\n",
       "      <td>9000</td>\n",
       "      <td>0</td>\n",
       "      <td>9000</td>\n",
       "      <td>0</td>\n",
       "      <td>18000.0</td>\n",
       "      <td>2.0</td>\n",
       "    </tr>\n",
       "    <tr>\n",
       "      <th>4</th>\n",
       "      <td>2</td>\n",
       "      <td>4</td>\n",
       "      <td>2010-05-27</td>\n",
       "      <td>Shaun Wallace</td>\n",
       "      <td>25</td>\n",
       "      <td>23</td>\n",
       "      <td>True</td>\n",
       "      <td>0.0</td>\n",
       "      <td>4000</td>\n",
       "      <td>12000</td>\n",
       "      <td>2000</td>\n",
       "      <td>1000</td>\n",
       "      <td>19000.0</td>\n",
       "      <td>4.0</td>\n",
       "    </tr>\n",
       "    <tr>\n",
       "      <th>5</th>\n",
       "      <td>2</td>\n",
       "      <td>5</td>\n",
       "      <td>2010-05-28</td>\n",
       "      <td>Anne Hegerty</td>\n",
       "      <td>21</td>\n",
       "      <td>21</td>\n",
       "      <td>False</td>\n",
       "      <td>22.0</td>\n",
       "      <td>8000</td>\n",
       "      <td>0</td>\n",
       "      <td>7000</td>\n",
       "      <td>0</td>\n",
       "      <td>15000.0</td>\n",
       "      <td>2.0</td>\n",
       "    </tr>\n",
       "  </tbody>\n",
       "</table>\n",
       "</div>"
      ],
      "text/plain": [
       "   Series  Episode    AirDate         Chaser  playerScore  chaserScore  \\\n",
       "1       2        1 2010-05-24  Shaun Wallace           19           19   \n",
       "2       2        2 2010-05-25   Mark Labbett           23           23   \n",
       "3       2        3 2010-05-26   Mark Labbett           14           14   \n",
       "4       2        4 2010-05-27  Shaun Wallace           25           23   \n",
       "5       2        5 2010-05-28   Anne Hegerty           21           21   \n",
       "\n",
       "   playerWin  remainingTime    P1     P2    P3    P4   PTotal  NPlayers  \n",
       "1      False           17.0  9000   2000     0  5000  16000.0       3.0  \n",
       "2      False           10.0  9000   9000  9000  1000  28000.0       4.0  \n",
       "3      False           35.0  9000      0  9000     0  18000.0       2.0  \n",
       "4       True            0.0  4000  12000  2000  1000  19000.0       4.0  \n",
       "5      False           22.0  8000      0  7000     0  15000.0       2.0  "
      ]
     },
     "execution_count": 19,
     "metadata": {},
     "output_type": "execute_result"
    }
   ],
   "source": [
    "new_df.head()"
   ]
  },
  {
   "cell_type": "markdown",
   "metadata": {},
   "source": [
    "# Merging\n",
    "\n",
    "Now we have a dataframe for both old and new formats, can just merge them and save the result for use in EDA and Modelling studies"
   ]
  },
  {
   "cell_type": "code",
   "execution_count": 20,
   "metadata": {},
   "outputs": [
    {
     "name": "stdout",
     "output_type": "stream",
     "text": [
      "435 1019 1454\n"
     ]
    },
    {
     "data": {
      "text/html": [
       "<div>\n",
       "<style scoped>\n",
       "    .dataframe tbody tr th:only-of-type {\n",
       "        vertical-align: middle;\n",
       "    }\n",
       "\n",
       "    .dataframe tbody tr th {\n",
       "        vertical-align: top;\n",
       "    }\n",
       "\n",
       "    .dataframe thead th {\n",
       "        text-align: right;\n",
       "    }\n",
       "</style>\n",
       "<table border=\"1\" class=\"dataframe\">\n",
       "  <thead>\n",
       "    <tr style=\"text-align: right;\">\n",
       "      <th></th>\n",
       "      <th>Series</th>\n",
       "      <th>Episode</th>\n",
       "      <th>AirDate</th>\n",
       "      <th>Chaser</th>\n",
       "      <th>P1</th>\n",
       "      <th>P2</th>\n",
       "      <th>P3</th>\n",
       "      <th>P4</th>\n",
       "      <th>NPlayers</th>\n",
       "      <th>PTotal</th>\n",
       "      <th>playerScore</th>\n",
       "      <th>chaserScore</th>\n",
       "      <th>playerWin</th>\n",
       "      <th>remainingTime</th>\n",
       "    </tr>\n",
       "  </thead>\n",
       "  <tbody>\n",
       "    <tr>\n",
       "      <th>0</th>\n",
       "      <td>7</td>\n",
       "      <td>1</td>\n",
       "      <td>2013-09-02</td>\n",
       "      <td>Anne Hegerty</td>\n",
       "      <td>3000</td>\n",
       "      <td>0</td>\n",
       "      <td>0</td>\n",
       "      <td>3000</td>\n",
       "      <td>2.0</td>\n",
       "      <td>6000.0</td>\n",
       "      <td>14</td>\n",
       "      <td>14</td>\n",
       "      <td>False</td>\n",
       "      <td>47.0</td>\n",
       "    </tr>\n",
       "    <tr>\n",
       "      <th>1</th>\n",
       "      <td>7</td>\n",
       "      <td>2</td>\n",
       "      <td>2013-09-03</td>\n",
       "      <td>Mark Labbett</td>\n",
       "      <td>7000</td>\n",
       "      <td>6000</td>\n",
       "      <td>5000</td>\n",
       "      <td>42000</td>\n",
       "      <td>4.0</td>\n",
       "      <td>60000.0</td>\n",
       "      <td>19</td>\n",
       "      <td>18</td>\n",
       "      <td>True</td>\n",
       "      <td>0.0</td>\n",
       "    </tr>\n",
       "    <tr>\n",
       "      <th>2</th>\n",
       "      <td>7</td>\n",
       "      <td>3</td>\n",
       "      <td>2013-09-04</td>\n",
       "      <td>Shaun Wallace</td>\n",
       "      <td>1000</td>\n",
       "      <td>0</td>\n",
       "      <td>0</td>\n",
       "      <td>49000</td>\n",
       "      <td>2.0</td>\n",
       "      <td>50000.0</td>\n",
       "      <td>17</td>\n",
       "      <td>17</td>\n",
       "      <td>False</td>\n",
       "      <td>2.0</td>\n",
       "    </tr>\n",
       "    <tr>\n",
       "      <th>3</th>\n",
       "      <td>7</td>\n",
       "      <td>4</td>\n",
       "      <td>2013-09-05</td>\n",
       "      <td>Mark Labbett</td>\n",
       "      <td>0</td>\n",
       "      <td>30000</td>\n",
       "      <td>-3000</td>\n",
       "      <td>7000</td>\n",
       "      <td>2.0</td>\n",
       "      <td>34000.0</td>\n",
       "      <td>19</td>\n",
       "      <td>19</td>\n",
       "      <td>False</td>\n",
       "      <td>6.0</td>\n",
       "    </tr>\n",
       "    <tr>\n",
       "      <th>4</th>\n",
       "      <td>7</td>\n",
       "      <td>5</td>\n",
       "      <td>2013-09-06</td>\n",
       "      <td>Paul Sinha</td>\n",
       "      <td>0</td>\n",
       "      <td>0</td>\n",
       "      <td>4000</td>\n",
       "      <td>5000</td>\n",
       "      <td>2.0</td>\n",
       "      <td>9000.0</td>\n",
       "      <td>11</td>\n",
       "      <td>11</td>\n",
       "      <td>False</td>\n",
       "      <td>61.0</td>\n",
       "    </tr>\n",
       "  </tbody>\n",
       "</table>\n",
       "</div>"
      ],
      "text/plain": [
       "   Series  Episode    AirDate         Chaser    P1     P2    P3     P4  \\\n",
       "0       7        1 2013-09-02   Anne Hegerty  3000      0     0   3000   \n",
       "1       7        2 2013-09-03   Mark Labbett  7000   6000  5000  42000   \n",
       "2       7        3 2013-09-04  Shaun Wallace  1000      0     0  49000   \n",
       "3       7        4 2013-09-05   Mark Labbett     0  30000 -3000   7000   \n",
       "4       7        5 2013-09-06     Paul Sinha     0      0  4000   5000   \n",
       "\n",
       "   NPlayers   PTotal  playerScore  chaserScore  playerWin  remainingTime  \n",
       "0       2.0   6000.0           14           14      False           47.0  \n",
       "1       4.0  60000.0           19           18       True            0.0  \n",
       "2       2.0  50000.0           17           17      False            2.0  \n",
       "3       2.0  34000.0           19           19      False            6.0  \n",
       "4       2.0   9000.0           11           11      False           61.0  "
      ]
     },
     "execution_count": 20,
     "metadata": {},
     "output_type": "execute_result"
    }
   ],
   "source": [
    "merged_df = pd.concat([old_df, new_df], axis=0)\n",
    "print(len(old_df), len(new_df), len(merged_df))\n",
    "merged_df.head()"
   ]
  },
  {
   "cell_type": "markdown",
   "metadata": {},
   "source": [
    "Now let's be careful, do we have any duplicates? Initially I wanted to track duplicate airdates but this seems to bring on many copies, but they have different details.\n",
    "\n",
    "In the end decided it best to look for duplicates of both Series and Epiosde... thankfully we have none!"
   ]
  },
  {
   "cell_type": "code",
   "execution_count": 21,
   "metadata": {},
   "outputs": [
    {
     "data": {
      "text/html": [
       "<div>\n",
       "<style scoped>\n",
       "    .dataframe tbody tr th:only-of-type {\n",
       "        vertical-align: middle;\n",
       "    }\n",
       "\n",
       "    .dataframe tbody tr th {\n",
       "        vertical-align: top;\n",
       "    }\n",
       "\n",
       "    .dataframe thead th {\n",
       "        text-align: right;\n",
       "    }\n",
       "</style>\n",
       "<table border=\"1\" class=\"dataframe\">\n",
       "  <thead>\n",
       "    <tr style=\"text-align: right;\">\n",
       "      <th></th>\n",
       "      <th>Series</th>\n",
       "      <th>Episode</th>\n",
       "      <th>AirDate</th>\n",
       "      <th>Chaser</th>\n",
       "      <th>P1</th>\n",
       "      <th>P2</th>\n",
       "      <th>P3</th>\n",
       "      <th>P4</th>\n",
       "      <th>NPlayers</th>\n",
       "      <th>PTotal</th>\n",
       "      <th>playerScore</th>\n",
       "      <th>chaserScore</th>\n",
       "      <th>playerWin</th>\n",
       "      <th>remainingTime</th>\n",
       "    </tr>\n",
       "  </thead>\n",
       "  <tbody>\n",
       "  </tbody>\n",
       "</table>\n",
       "</div>"
      ],
      "text/plain": [
       "Empty DataFrame\n",
       "Columns: [Series, Episode, AirDate, Chaser, P1, P2, P3, P4, NPlayers, PTotal, playerScore, chaserScore, playerWin, remainingTime]\n",
       "Index: []"
      ]
     },
     "execution_count": 21,
     "metadata": {},
     "output_type": "execute_result"
    }
   ],
   "source": [
    "merged_df[merged_df.duplicated(['Series','Episode'], keep=\"first\")].head()"
   ]
  },
  {
   "cell_type": "markdown",
   "metadata": {},
   "source": [
    "Now to save the dataframe and we are done!"
   ]
  },
  {
   "cell_type": "code",
   "execution_count": 22,
   "metadata": {},
   "outputs": [],
   "source": [
    "merged_df.to_csv('data/parsed_chase.csv', index=False)"
   ]
  },
  {
   "cell_type": "code",
   "execution_count": 23,
   "metadata": {},
   "outputs": [
    {
     "name": "stdout",
     "output_type": "stream",
     "text": [
      "newformat_chase.csv\r\n",
      "oldformat_chase.csv\r\n",
      "parsed_chase.csv\r\n"
     ]
    }
   ],
   "source": [
    "!ls -1 data"
   ]
  },
  {
   "cell_type": "code",
   "execution_count": 24,
   "metadata": {},
   "outputs": [
    {
     "data": {
      "text/html": [
       "<div>\n",
       "<style scoped>\n",
       "    .dataframe tbody tr th:only-of-type {\n",
       "        vertical-align: middle;\n",
       "    }\n",
       "\n",
       "    .dataframe tbody tr th {\n",
       "        vertical-align: top;\n",
       "    }\n",
       "\n",
       "    .dataframe thead th {\n",
       "        text-align: right;\n",
       "    }\n",
       "</style>\n",
       "<table border=\"1\" class=\"dataframe\">\n",
       "  <thead>\n",
       "    <tr style=\"text-align: right;\">\n",
       "      <th></th>\n",
       "      <th>Series</th>\n",
       "      <th>Episode</th>\n",
       "      <th>AirDate</th>\n",
       "      <th>Chaser</th>\n",
       "      <th>P1</th>\n",
       "      <th>P2</th>\n",
       "      <th>P3</th>\n",
       "      <th>P4</th>\n",
       "      <th>NPlayers</th>\n",
       "      <th>PTotal</th>\n",
       "      <th>playerScore</th>\n",
       "      <th>chaserScore</th>\n",
       "      <th>playerWin</th>\n",
       "      <th>remainingTime</th>\n",
       "    </tr>\n",
       "  </thead>\n",
       "  <tbody>\n",
       "    <tr>\n",
       "      <th>407</th>\n",
       "      <td>9</td>\n",
       "      <td>105</td>\n",
       "      <td>NaT</td>\n",
       "      <td>Mark Labbett</td>\n",
       "      <td>5000</td>\n",
       "      <td>6000</td>\n",
       "      <td>6000</td>\n",
       "      <td>6000</td>\n",
       "      <td>4.0</td>\n",
       "      <td>23000.0</td>\n",
       "      <td>21</td>\n",
       "      <td>21</td>\n",
       "      <td>False</td>\n",
       "      <td>24.0</td>\n",
       "    </tr>\n",
       "  </tbody>\n",
       "</table>\n",
       "</div>"
      ],
      "text/plain": [
       "     Series  Episode AirDate        Chaser    P1    P2    P3    P4  NPlayers  \\\n",
       "407       9      105     NaT  Mark Labbett  5000  6000  6000  6000       4.0   \n",
       "\n",
       "      PTotal  playerScore  chaserScore  playerWin  remainingTime  \n",
       "407  23000.0           21           21      False           24.0  "
      ]
     },
     "execution_count": 24,
     "metadata": {},
     "output_type": "execute_result"
    }
   ],
   "source": [
    "merged_df[merged_df.isnull().any(axis=1)]"
   ]
  },
  {
   "cell_type": "code",
   "execution_count": 34,
   "metadata": {},
   "outputs": [
    {
     "name": "stdout",
     "output_type": "stream",
     "text": [
      "986\n",
      "468\n"
     ]
    }
   ],
   "source": [
    "test = merged_df[[\"P1\",\"P2\",\"P3\",\"P4\",\"PTotal\"]]\n",
    "print(len(test[~test.applymap(np.isreal).all(1)]))\n",
    "print(len(test[test.applymap(np.isreal).all(1)]))"
   ]
  },
  {
   "cell_type": "code",
   "execution_count": 35,
   "metadata": {},
   "outputs": [
    {
     "name": "stdout",
     "output_type": "stream",
     "text": [
      "<class 'pandas.core.frame.DataFrame'>\n",
      "Int64Index: 1454 entries, 0 to 1053\n",
      "Data columns (total 5 columns):\n",
      " #   Column  Non-Null Count  Dtype  \n",
      "---  ------  --------------  -----  \n",
      " 0   P1      1454 non-null   object \n",
      " 1   P2      1454 non-null   object \n",
      " 2   P3      1454 non-null   object \n",
      " 3   P4      1454 non-null   object \n",
      " 4   PTotal  1454 non-null   float64\n",
      "dtypes: float64(1), object(4)\n",
      "memory usage: 68.2+ KB\n"
     ]
    }
   ],
   "source": [
    "test.info()"
   ]
  },
  {
   "cell_type": "code",
   "execution_count": null,
   "metadata": {},
   "outputs": [],
   "source": []
  }
 ],
 "metadata": {
  "kernelspec": {
   "display_name": "Python 3",
   "language": "python",
   "name": "python3"
  },
  "language_info": {
   "codemirror_mode": {
    "name": "ipython",
    "version": 3
   },
   "file_extension": ".py",
   "mimetype": "text/x-python",
   "name": "python",
   "nbconvert_exporter": "python",
   "pygments_lexer": "ipython3",
   "version": "3.8.5"
  }
 },
 "nbformat": 4,
 "nbformat_minor": 4
}
