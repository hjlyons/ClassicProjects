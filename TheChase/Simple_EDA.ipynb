{
 "cells": [
  {
   "cell_type": "code",
   "execution_count": 1,
   "metadata": {},
   "outputs": [],
   "source": [
    "import pandas as pd\n",
    "import numpy as np\n",
    "import os\n",
    "import matplotlib.pyplot as plt"
   ]
  },
  {
   "cell_type": "code",
   "execution_count": 2,
   "metadata": {},
   "outputs": [],
   "source": [
    "df = pd.read_csv('data/parsed_chase.csv')\n",
    "df.head()\n",
    "# For easier data manipulation want the chaserWin not playerWin!\n",
    "df[\"chaserWin\"] = ~df[\"playerWin\"]"
   ]
  },
  {
   "cell_type": "markdown",
   "metadata": {},
   "source": [
    "## Win Rate by Chaser\n",
    "\n",
    "First we want to visualise the win rates of each chaser, see if there are any variability between them"
   ]
  },
  {
   "cell_type": "code",
   "execution_count": 3,
   "metadata": {},
   "outputs": [
    {
     "data": {
      "text/html": [
       "<div>\n",
       "<style scoped>\n",
       "    .dataframe tbody tr th:only-of-type {\n",
       "        vertical-align: middle;\n",
       "    }\n",
       "\n",
       "    .dataframe tbody tr th {\n",
       "        vertical-align: top;\n",
       "    }\n",
       "\n",
       "    .dataframe thead th {\n",
       "        text-align: right;\n",
       "    }\n",
       "</style>\n",
       "<table border=\"1\" class=\"dataframe\">\n",
       "  <thead>\n",
       "    <tr style=\"text-align: right;\">\n",
       "      <th></th>\n",
       "      <th>winRate</th>\n",
       "    </tr>\n",
       "    <tr>\n",
       "      <th>Chaser</th>\n",
       "      <th></th>\n",
       "    </tr>\n",
       "  </thead>\n",
       "  <tbody>\n",
       "    <tr>\n",
       "      <th>Anne Hegerty</th>\n",
       "      <td>80.177515</td>\n",
       "    </tr>\n",
       "    <tr>\n",
       "      <th>Jenny Ryan</th>\n",
       "      <td>77.483444</td>\n",
       "    </tr>\n",
       "    <tr>\n",
       "      <th>Mark Labbett</th>\n",
       "      <td>75.667656</td>\n",
       "    </tr>\n",
       "    <tr>\n",
       "      <th>Paul Sinha</th>\n",
       "      <td>75.986842</td>\n",
       "    </tr>\n",
       "    <tr>\n",
       "      <th>Shaun Wallace</th>\n",
       "      <td>71.296296</td>\n",
       "    </tr>\n",
       "    <tr>\n",
       "      <th>All</th>\n",
       "      <td>75.997249</td>\n",
       "    </tr>\n",
       "  </tbody>\n",
       "</table>\n",
       "</div>"
      ],
      "text/plain": [
       "                 winRate\n",
       "Chaser                  \n",
       "Anne Hegerty   80.177515\n",
       "Jenny Ryan     77.483444\n",
       "Mark Labbett   75.667656\n",
       "Paul Sinha     75.986842\n",
       "Shaun Wallace  71.296296\n",
       "All            75.997249"
      ]
     },
     "execution_count": 3,
     "metadata": {},
     "output_type": "execute_result"
    }
   ],
   "source": [
    "chasers_group = df[[\"Chaser\",\"chaserWin\"]].groupby(\"Chaser\")\n",
    "winrate_df = pd.DataFrame()\n",
    "winrate_df[\"winRate\"] = 100*chasers_group[\"chaserWin\"].sum()/chasers_group[\"chaserWin\"].count()\n",
    "winrate_df[\"Chaser\"] = chasers_group[\"chaserWin\"].sum().index\n",
    "\n",
    "# Just so we have an entry for average over all chasers\n",
    "winrate_df = winrate_df.append({\"Chaser\": \"All\", \"winRate\" : 100*df[\"chaserWin\"].sum()/df[\"chaserWin\"].count()}, ignore_index=True)\n",
    "#winrate_df[[\"Chaser\", \"winRate\"]].head(10)\n",
    "winrate_df.set_index(\"Chaser\").head(10)"
   ]
  },
  {
   "cell_type": "code",
   "execution_count": 4,
   "metadata": {},
   "outputs": [
    {
     "data": {
      "image/png": "[encoded data removed]",
      "text/plain": [
       "<Figure size 1008x576 with 1 Axes>"
      ]
     },
     "metadata": {
      "needs_background": "light"
     },
     "output_type": "display_data"
    }
   ],
   "source": [
    "ax = winrate_df.plot(kind='barh', x=\"Chaser\", y=\"winRate\", xlim = [70,85], figsize=(14, 8))\n",
    "plt.xlabel('Win Rate [%]', horizontalalignment='right', x=1.0)\n",
    "plt.show()"
   ]
  },
  {
   "cell_type": "markdown",
   "metadata": {},
   "source": [
    "What we can see is that 76% of episodes result in the chaser winning. The chaser with the highest win rate is Anne Hegerty with 80.2%, with Shaun Wallace falling with the lowest win rate of 71.3%.\n",
    "\n",
    "So immediately it seems the chaser in the episode could be a useful variable in predicting whether the contestants can win or not."
   ]
  }
 ],
 "metadata": {
  "kernelspec": {
   "display_name": "Python 3",
   "language": "python",
   "name": "python3"
  },
  "language_info": {
   "codemirror_mode": {
    "name": "ipython",
    "version": 3
   },
   "file_extension": ".py",
   "mimetype": "text/x-python",
   "name": "python",
   "nbconvert_exporter": "python",
   "pygments_lexer": "ipython3",
   "version": "3.8.5"
  }
 },
 "nbformat": 4,
 "nbformat_minor": 4
}
